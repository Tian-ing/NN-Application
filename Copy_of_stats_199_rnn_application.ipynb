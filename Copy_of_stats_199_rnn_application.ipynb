{
  "cells": [
    {
      "cell_type": "markdown",
      "metadata": {
        "id": "view-in-github",
        "colab_type": "text"
      },
      "source": [
        "<a href=\"https://colab.research.google.com/github/Tian-ing/RNN-Application/blob/main/Copy_of_stats_199_rnn_application.ipynb\" target=\"_parent\"><img src=\"https://colab.research.google.com/assets/colab-badge.svg\" alt=\"Open In Colab\"/></a>"
      ]
    },
    {
      "cell_type": "markdown",
      "id": "26fe8461",
      "metadata": {
        "id": "26fe8461"
      },
      "source": [
        "load package"
      ]
    },
    {
      "cell_type": "code",
      "source": [
        "pip install sparse"
      ],
      "metadata": {
        "colab": {
          "base_uri": "https://localhost:8080/"
        },
        "id": "fQ8tC0pr6mhS",
        "outputId": "7348312c-e2ad-43ec-dd23-8b68aaf01296"
      },
      "id": "fQ8tC0pr6mhS",
      "execution_count": 1,
      "outputs": [
        {
          "output_type": "stream",
          "name": "stdout",
          "text": [
            "Looking in indexes: https://pypi.org/simple, https://us-python.pkg.dev/colab-wheels/public/simple/\n",
            "Collecting sparse\n",
            "  Downloading sparse-0.13.0-py2.py3-none-any.whl (77 kB)\n",
            "\u001b[K     |████████████████████████████████| 77 kB 3.3 MB/s \n",
            "\u001b[?25hRequirement already satisfied: scipy>=0.19 in /usr/local/lib/python3.7/dist-packages (from sparse) (1.7.3)\n",
            "Requirement already satisfied: numpy>=1.17 in /usr/local/lib/python3.7/dist-packages (from sparse) (1.21.6)\n",
            "Requirement already satisfied: numba>=0.49 in /usr/local/lib/python3.7/dist-packages (from sparse) (0.56.3)\n",
            "Requirement already satisfied: llvmlite<0.40,>=0.39.0dev0 in /usr/local/lib/python3.7/dist-packages (from numba>=0.49->sparse) (0.39.1)\n",
            "Requirement already satisfied: importlib-metadata in /usr/local/lib/python3.7/dist-packages (from numba>=0.49->sparse) (4.13.0)\n",
            "Requirement already satisfied: setuptools in /usr/local/lib/python3.7/dist-packages (from numba>=0.49->sparse) (57.4.0)\n",
            "Requirement already satisfied: zipp>=0.5 in /usr/local/lib/python3.7/dist-packages (from importlib-metadata->numba>=0.49->sparse) (3.10.0)\n",
            "Requirement already satisfied: typing-extensions>=3.6.4 in /usr/local/lib/python3.7/dist-packages (from importlib-metadata->numba>=0.49->sparse) (4.1.1)\n",
            "Installing collected packages: sparse\n",
            "Successfully installed sparse-0.13.0\n"
          ]
        }
      ]
    },
    {
      "cell_type": "code",
      "execution_count": 2,
      "id": "93023838",
      "metadata": {
        "id": "93023838"
      },
      "outputs": [],
      "source": [
        "import numpy as np\n",
        "from scipy.interpolate import BSpline, splrep, UnivariateSpline\n",
        "\n",
        "from scipy.signal import bspline\n",
        "import pandas as pd\n",
        "\n",
        "from sklearn.preprocessing import StandardScaler\n",
        "import sparse\n",
        "import time\n",
        "from scipy.interpolate._bspl import evaluate_all_bspl\n",
        "\n"
      ]
    },
    {
      "cell_type": "markdown",
      "id": "31ca8970",
      "metadata": {
        "id": "31ca8970"
      },
      "source": [
        "generate data"
      ]
    },
    {
      "cell_type": "code",
      "execution_count": 3,
      "id": "a00b867a",
      "metadata": {
        "id": "a00b867a"
      },
      "outputs": [],
      "source": [
        "def generate_data(n_patients, n_var, T, idx_x, idx_y, rank):\n",
        "    Fx = np.random.randn(n_var,rank)\n",
        "    Fy = np.random.randn(rank)\n",
        "\n",
        "#     weights = np.random.randn(n_patients, rank, D)        # D is not defined     suppose D as 1;\n",
        "    x_data = []\n",
        "    y_data = []\n",
        "    for i in range(n_patients):\n",
        "        spl = [lambda t: 0.02*i*np.log(t+1), lambda t: 2*np.exp(-(t-60+10*i)/50*(t-60+10*i)+0.0000001) + 4*np.exp(-(t-70+10*i)/20*(t-70+10*i)+0.0000001) , lambda t: np.cos(0.12*np.pi*t) + 1]\n",
        "        for j in range(n_var):\n",
        "            tmp = np.matmul(Fx[j,:], [spl[r](idx_x[i,j,:].data) for r in range(rank)])+ 0.5*np.random.randn(len(idx_x[i,j,:].data))\n",
        "            x_data = np.concatenate((x_data, tmp))\n",
        "        tmp = np.matmul(Fy, [spl[r](idx_y[i,0,:].data) for r in range(rank)])+ 0.5*np.random.randn(len(idx_y[i,0,:].data))\n",
        "        y_data = np.concatenate((y_data, tmp))\n",
        "    output_x = sparse.COO(idx_x.coords, x_data, shape = (n_patients, n_var, T))\n",
        "    output_y = sparse.COO(idx_y.coords, y_data, shape = (n_patients, 1, T))\n",
        "\n",
        "    return [output_x, output_y, Fx, Fy]\n",
        "############################\n",
        "I = 33 # # of patients\n",
        "J = 4 # # of variables for X\n",
        "#T = 96 # max time\n",
        "T = 1000\n",
        "R = 3 # Rank\n",
        "performance = {}\n",
        "\n",
        "#    #Same resolution random\n",
        "#    idx_x = sparse.random((I, J, T), density = 0.7)\n",
        "#    idx_y_train = sparse.random((I, 1, T), density = 0.7)\n",
        "\n",
        "#    # Sameresolution same idx\n",
        "#\n",
        "#    a = np.random.binomial(1, 0.7, T)\n",
        "#    idx_x = np.stack(J*[a], axis = 0)\n",
        "#    idx_x = np.repeat(idx_x.reshape(1,J,T), I, axis=0)\n",
        "#    idx_x = sparse.COO.from_numpy(idx_x)\n",
        "#\n",
        "#    idx_y_train = np.repeat(a.reshape(1,1,T), I, axis=0)\n",
        "#    idx_y_train = sparse.COO.from_numpy(idx_y_train)\n",
        "#\n",
        "\n",
        "############# Multiresolution\n",
        "idx_x = sparse.random((I, J, T), density = 0.8)\n",
        "idx_y_train = sparse.random((I, 1, T), density = 0.2)\n",
        "\n",
        "\n",
        "#    ## Fixed multiresolution\n",
        "#    a = np.ones((T))\n",
        "#    b = np.zeros((T))\n",
        "#    b[range(0, T, 2)] = 1\n",
        "#    idx_x = np.stack((J-int(J/4))*[a]+int(J/4)*[b], axis = 0)\n",
        "#    idx_x = np.repeat(idx_x.reshape(1,J,T), I, axis=0)\n",
        "#    idx_x = sparse.COO.from_numpy(idx_x)\n",
        "#    b = np.zeros((T))\n",
        "#    b[range(0, T, 4)] = 1\n",
        "#    idx_y_train = np.repeat(b.reshape(1,1,T), I, axis=0)\n",
        "#    idx_y_train = sparse.COO.from_numpy(idx_y_train)\n",
        "#    b = np.zeros((T))\n",
        "#    b[range(1, T, 4)] = 1\n",
        "#    idx_y_test = np.repeat(b.reshape(1,1,T), I, axis=0)\n",
        "#    idx_y_test = sparse.COO.from_numpy(idx_y_test)\n",
        "\n",
        "\n",
        "###Idx processing\n",
        "idx_y_test = np.copy(idx_y_train)\n",
        "idx_y_test.fill_value = np.nan\n",
        "idx_y_test = np.isnan(idx_y_test.todense())\n",
        "idx_y_test = sparse.COO.from_numpy(idx_y_test)\n",
        "idx_y = idx_y_train+idx_y_test\n",
        "idx_x.data = idx_x.coords[2,:]\n",
        "idx_y_train.data = idx_y_train.coords[2,:]\n",
        "idx_y_test.data = idx_y_test.coords[2,:]\n",
        "idx_y.data = idx_y.coords[2,:]\n",
        "\n",
        "\n",
        "[output_x, output_y, trueFx, trueFy] = generate_data(n_patients = I, n_var = J, T = T, idx_x = idx_x, idx_y = idx_y, rank = R)\n",
        "\n",
        "idx_y_train_copy = np.copy(idx_y_train)\n",
        "idx_y_train_copy.data = np.ones(len(idx_y_train_copy.data))\n",
        "output_y_train = output_y * idx_y_train_copy\n",
        "\n",
        "idx_y_test_copy = np.copy(idx_y_test)\n",
        "idx_y_test_copy.data = np.ones(len(idx_y_test_copy.data))\n",
        "output_y_test = output_y * idx_y_test_copy"
      ]
    },
    {
      "cell_type": "code",
      "execution_count": 4,
      "id": "9ebc45f5",
      "metadata": {
        "id": "9ebc45f5",
        "outputId": "8d9b60b3-770d-44a2-bf67-0f21b55c403a",
        "colab": {
          "base_uri": "https://localhost:8080/"
        }
      },
      "outputs": [
        {
          "output_type": "execute_result",
          "data": {
            "text/plain": [
              "array([[ 0.70415685, -0.23232072,  0.90954434],\n",
              "       [-2.09320482,  0.16193822, -1.06130033],\n",
              "       [-0.1539251 ,  2.18717684,  1.58467883],\n",
              "       [-2.29515695,  0.79661464, -0.41821911]])"
            ]
          },
          "metadata": {},
          "execution_count": 4
        }
      ],
      "source": [
        "trueFx"
      ]
    },
    {
      "cell_type": "code",
      "execution_count": 5,
      "id": "fa969700",
      "metadata": {
        "id": "fa969700",
        "outputId": "1a0c9696-e71f-4eb3-96d5-de22472a15d6",
        "colab": {
          "base_uri": "https://localhost:8080/",
          "height": 190
        }
      },
      "outputs": [
        {
          "output_type": "execute_result",
          "data": {
            "text/plain": [
              "<COO: shape=(33, 4, 1000), dtype=float64, nnz=105600, fill_value=0.0>"
            ],
            "text/html": [
              "<table><tbody><tr><th style=\"text-align: left\">Format</th><td style=\"text-align: left\">coo</td></tr><tr><th style=\"text-align: left\">Data Type</th><td style=\"text-align: left\">float64</td></tr><tr><th style=\"text-align: left\">Shape</th><td style=\"text-align: left\">(33, 4, 1000)</td></tr><tr><th style=\"text-align: left\">nnz</th><td style=\"text-align: left\">105600</td></tr><tr><th style=\"text-align: left\">Density</th><td style=\"text-align: left\">0.8</td></tr><tr><th style=\"text-align: left\">Read-only</th><td style=\"text-align: left\">True</td></tr><tr><th style=\"text-align: left\">Size</th><td style=\"text-align: left\">3.2M</td></tr><tr><th style=\"text-align: left\">Storage ratio</th><td style=\"text-align: left\">3.2</td></tr></tbody></table>"
            ]
          },
          "metadata": {},
          "execution_count": 5
        }
      ],
      "source": [
        "output_x"
      ]
    },
    {
      "cell_type": "code",
      "execution_count": 6,
      "id": "34010cca",
      "metadata": {
        "scrolled": true,
        "id": "34010cca",
        "outputId": "dd63ccd4-a4ec-45cb-99e1-895c71d9ebc8",
        "colab": {
          "base_uri": "https://localhost:8080/"
        }
      },
      "outputs": [
        {
          "output_type": "stream",
          "name": "stdout",
          "text": [
            "<COO: shape=(33, 4, 1000), dtype=float64, nnz=105600, fill_value=0.0>\n"
          ]
        }
      ],
      "source": [
        "print(output_x)"
      ]
    },
    {
      "cell_type": "code",
      "execution_count": 7,
      "id": "1c6ce0dc",
      "metadata": {
        "id": "1c6ce0dc"
      },
      "outputs": [],
      "source": [
        "import multiprocessing as mp\n",
        "\n",
        "import itertools\n",
        "import torch\n",
        "\n",
        "\n",
        "\n",
        "spl = []\n",
        "data = []\n",
        "data1 = []\n",
        "k = 3\n",
        "for i in range(I):\n",
        "    spl.append(UnivariateSpline(idx_y_train[i,0,:].data, output_y_train[i,0,:].data, k = k, s = 200))\n",
        "    tmp = spl[i](idx_y_train[i,0,:].data)\n",
        "    data = np.concatenate((data, tmp))\n",
        "    tmp = spl[i](idx_y_test[i,0,:].data)\n",
        "    data1 = np.concatenate((data1, tmp))\n",
        "pred_train = sparse.COO(idx_y_train.coords, data,shape = (I, 1, idx_y_train.shape[2]))\n",
        "pred_test = sparse.COO(idx_y_test.coords, data1,shape = (I, 1, idx_y_test.shape[2]))"
      ]
    },
    {
      "cell_type": "code",
      "execution_count": 8,
      "id": "a6ad7de9",
      "metadata": {
        "id": "a6ad7de9",
        "outputId": "0e84ff9f-9531-4880-fdc6-e7d7c3299360",
        "colab": {
          "base_uri": "https://localhost:8080/",
          "height": 190
        }
      },
      "outputs": [
        {
          "output_type": "execute_result",
          "data": {
            "text/plain": [
              "<COO: shape=(33, 1, 1000), dtype=float64, nnz=6600, fill_value=0.0>"
            ],
            "text/html": [
              "<table><tbody><tr><th style=\"text-align: left\">Format</th><td style=\"text-align: left\">coo</td></tr><tr><th style=\"text-align: left\">Data Type</th><td style=\"text-align: left\">float64</td></tr><tr><th style=\"text-align: left\">Shape</th><td style=\"text-align: left\">(33, 1, 1000)</td></tr><tr><th style=\"text-align: left\">nnz</th><td style=\"text-align: left\">6600</td></tr><tr><th style=\"text-align: left\">Density</th><td style=\"text-align: left\">0.2</td></tr><tr><th style=\"text-align: left\">Read-only</th><td style=\"text-align: left\">True</td></tr><tr><th style=\"text-align: left\">Size</th><td style=\"text-align: left\">90.2K</td></tr><tr><th style=\"text-align: left\">Storage ratio</th><td style=\"text-align: left\">0.3</td></tr></tbody></table>"
            ]
          },
          "metadata": {},
          "execution_count": 8
        }
      ],
      "source": [
        "pred_train"
      ]
    },
    {
      "cell_type": "code",
      "execution_count": 9,
      "id": "7c3cf836",
      "metadata": {
        "scrolled": true,
        "id": "7c3cf836",
        "outputId": "15f941ad-6054-4909-f095-b9ecfa9823f9",
        "colab": {
          "base_uri": "https://localhost:8080/"
        }
      },
      "outputs": [
        {
          "output_type": "execute_result",
          "data": {
            "text/plain": [
              "numpy.ndarray"
            ]
          },
          "metadata": {},
          "execution_count": 9
        }
      ],
      "source": [
        "a = pred_train.todense()\n",
        "type(a)"
      ]
    },
    {
      "cell_type": "code",
      "execution_count": 10,
      "id": "b6f03d30",
      "metadata": {
        "id": "b6f03d30",
        "outputId": "93e4fde7-6bea-40e2-bf4f-445ca89159b0",
        "colab": {
          "base_uri": "https://localhost:8080/"
        }
      },
      "outputs": [
        {
          "output_type": "stream",
          "name": "stdout",
          "text": [
            "[[[-0.70961316 -0.70654134 -0.70348404 ... -0.08893245 -0.08596065\n",
            "   -0.0829745 ]]\n",
            "\n",
            " [[-0.56968423 -0.56823562 -0.56679017 ...  0.         -0.21669156\n",
            "    0.        ]]\n",
            "\n",
            " [[ 0.         -0.59919481  0.         ... -0.11951353 -0.11953055\n",
            "   -0.11954558]]\n",
            "\n",
            " ...\n",
            "\n",
            " [[ 0.          0.          1.71196296 ...  5.19131907  5.19685567\n",
            "    5.20242084]]\n",
            "\n",
            " [[ 2.04431324  2.05683393  2.06931408 ...  5.15617406  5.16070537\n",
            "    0.        ]]\n",
            "\n",
            " [[ 2.07565772  2.08645146  2.09721629 ...  5.47015725  5.4731929\n",
            "    5.47624193]]]\n"
          ]
        }
      ],
      "source": [
        "a = pred_test.todense()\n",
        "print(a)"
      ]
    },
    {
      "cell_type": "code",
      "execution_count": 11,
      "id": "42664e66",
      "metadata": {
        "id": "42664e66"
      },
      "outputs": [],
      "source": [
        "\n",
        "performance['spline'] =   np.sum((pred_train - output_y_train)**2)/len(pred_train.data)\n",
        "performance['splinepred'] =   np.sum((pred_test - output_y_test)**2)/len(pred_test.data)\n",
        "#\n",
        "###################### DLM\n",
        "#    assert pyro.__version__.startswith('1.8.1')\n",
        "#\n",
        "#    pyro.set_rng_seed(2022)\n",
        "#\n",
        "#    pd.set_option('display.max_rows', 500)\n",
        "#\n",
        "#    torch.manual_seed(2022)\n",
        "#\n",
        "#    class DLM(ForecastingModel):\n",
        "#        def model(self, zero_data, covariates):\n",
        "#            data_dim = zero_data.size(-1)\n",
        "#            feature_dim = covariates.size(-1)\n",
        "#\n",
        "#            drift_scale = pyro.sample(\"drift_scale\", dist.LogNormal(-10, 10).expand([feature_dim]).to_event(1))\n",
        "#            with self.time_plate:\n",
        "#                with poutine.reparam(config={\"drift\": LocScaleReparam()}):\n",
        "#                    drift = pyro.sample(\"drift\", dist.Normal(torch.zeros(covariates.size()), drift_scale).to_event(1))\n",
        "#\n",
        "#            weight = drift.cumsum(-2)  # A Brownian motion.\n",
        "#            # record in model_trace\n",
        "#            pyro.deterministic(\"weight\", weight)\n",
        "#\n",
        "#            prediction = (weight * covariates).sum(-1, keepdim=True)\n",
        "#            assert prediction.shape[-2:] == zero_data.shape\n",
        "#            # record in model_trace\n",
        "#            pyro.deterministic(\"prediction\", prediction)\n",
        "#\n",
        "#            scale = pyro.sample(\"noise_scale\", dist.LogNormal(-5, 10).expand([1]).to_event(1))\n",
        "#            noise_dist = dist.Normal(0, scale)\n",
        "#\n",
        "#            self.predict(noise_dist, prediction)\n",
        "#\n",
        "#    errorsum = 0\n",
        "#    errorn = 0\n",
        "#    errorsum_train = 0\n",
        "#    errorn_train = 0\n",
        "#    for i in range(I):\n",
        "#        y = output_y_train[i,:,:]\n",
        "#        y.fill_value = 0\n",
        "#        y = np.transpose(y.todense())\n",
        "#        y = torch.from_numpy(y)\n",
        "#\n",
        "#        covariates = output_x[i,:,:]\n",
        "#        covariates.fill_value = 0\n",
        "#        covariates = np.transpose(covariates.todense())\n",
        "#        covariates = torch.from_numpy(covariates)\n",
        "#\n",
        "#        pyro.set_rng_seed(2022)\n",
        "#        pyro.clear_param_store()\n",
        "#        model = DLM()\n",
        "#        forecaster = Forecaster(\n",
        "#            model,\n",
        "#            y[:T],\n",
        "#            covariates[:T],\n",
        "#            learning_rate=0.1,\n",
        "#            learning_rate_decay=0.05,\n",
        "#            num_steps=1000,\n",
        "#        )\n",
        "#\n",
        "#        with poutine.trace() as tr:\n",
        "#            forecaster(y[:T], covariates[:T], num_samples=100)\n",
        "#\n",
        "#        # extract the values from the recorded trace\n",
        "#        posterior_samples = {\n",
        "#            name: site[\"value\"]\n",
        "#            for name, site in tr.trace.nodes.items()\n",
        "#            if site[\"type\"] == \"sample\"\n",
        "#        }\n",
        "#\n",
        "#        DLMpred = quantile(posterior_samples['prediction'], 0.5)\n",
        "#\n",
        "#        errorsum_train = errorsum_train + np.sum((np.array(DLMpred[:,0])[output_y_train[i,:,:].coords[0]]-output_y_train[i,:,:].data)**2)\n",
        "#        errorn_train = errorn_train + len(output_y_train[i,:,:].data)\n",
        "#\n",
        "#        dlmtest= output_y_test[i,0,:]\n",
        "#        errorsum = errorsum + np.sum((np.array(DLMpred[:,0])[dlmtest.coords[0]]-dlmtest.data)**2)\n",
        "#        errorn = errorn + len(dlmtest.data)\n",
        "#\n",
        "#    performance['DLM'] =   errorsum_train/errorn_train\n",
        "#    performance['DLMpred'] =   errorsum/errorn\n",
        "\n",
        "###################Time series\n",
        "#    from statsmodels.tsa.api import VAR\n",
        "#\n",
        "#    errorsum = 0\n",
        "#    errorn = 0\n",
        "#    errorsum_train = 0\n",
        "#    errorn_train = 0\n",
        "#\n",
        "#    for i in range(I):\n",
        "#        tsdata = np.concatenate((np.transpose(output_x[i,:,:].todense()), np.transpose(output_y_train[i,:,:].todense())),axis=1)\n",
        "#        model = VAR(tsdata)\n",
        "#        model_fit = model.fit(9)\n",
        "#\n",
        "#        lag_order = model_fit.k_ar\n",
        "#        TSpred = []\n",
        "#        startidx = 0\n",
        "#        for idx in output_y_test[i,0,:].coords[0]:\n",
        "#            if idx < lag_order:\n",
        "#                errorn_train = errorn_train - 1\n",
        "#                startidx += 1\n",
        "#            else:\n",
        "#                tmp = model_fit.forecast(tsdata[idx-lag_order:idx], steps=1)\n",
        "#                tmp = tmp[0,J]\n",
        "#                TSpred.append(tmp)\n",
        "#        errorsum = errorsum + np.sum((TSpred-output_y_test[i,0,:].data[startidx:])**2)\n",
        "#        errorn = errorn + len(output_y_test[i,0,:].data)\n",
        "#\n",
        "#        TSpred = []\n",
        "#        startidx = 0\n",
        "#        for idx in output_y_train[i,0,:].coords[0]:\n",
        "#            if idx < lag_order:\n",
        "#                errorn_train = errorn_train - 1\n",
        "#                startidx += 1\n",
        "#            else:\n",
        "#                tmp = model_fit.forecast(tsdata[idx-lag_order:idx], steps=1)\n",
        "#                tmp = tmp[0,J]\n",
        "#                TSpred.append(tmp)\n",
        "#        errorsum_train = errorsum_train + np.sum((TSpred-output_y_train[i,0,:].data[startidx:])**2)\n",
        "#        errorn_train = errorn_train + len(output_y_train[i,0,:].data)\n",
        "#    performance['TS'] =   errorsum_train/errorn_train\n",
        "#    performance['TSpred'] =   errorsum/errorn\n",
        "#\n",
        "#    print(performance)\n",
        "\n",
        "########RNN\n",
        "output_y_train.fill_value = 0\n",
        "output_y_test.fill_value = 0\n",
        "output_x.fill_value = 0\n",
        "y0 = np.moveaxis(output_y_train.todense(), -1, 1)\n",
        "x0 = np.moveaxis(output_x.todense(), -1, 1)\n",
        "data = np.concatenate((x0, y0), axis=2)\n",
        "\n"
      ]
    },
    {
      "cell_type": "code",
      "execution_count": 12,
      "id": "536fd6bc",
      "metadata": {
        "id": "536fd6bc",
        "outputId": "afe32be4-ca3f-44d0-e3c7-4584e71dcc74",
        "colab": {
          "base_uri": "https://localhost:8080/"
        }
      },
      "outputs": [
        {
          "output_type": "execute_result",
          "data": {
            "text/plain": [
              "sparse._coo.core.COO"
            ]
          },
          "metadata": {},
          "execution_count": 12
        }
      ],
      "source": [
        "pred_train\n",
        "type(pred_test)"
      ]
    },
    {
      "cell_type": "code",
      "execution_count": 13,
      "id": "cff3dac9",
      "metadata": {
        "scrolled": true,
        "id": "cff3dac9"
      },
      "outputs": [],
      "source": [
        "train_tensor = torch.tensor(pred_train)\n",
        "test_tensor = torch.tensor(pred_test)\n"
      ]
    },
    {
      "cell_type": "code",
      "execution_count": 14,
      "id": "1d60b310",
      "metadata": {
        "scrolled": true,
        "id": "1d60b310",
        "outputId": "141369da-941d-4398-87a1-42109c617c80",
        "colab": {
          "base_uri": "https://localhost:8080/"
        }
      },
      "outputs": [
        {
          "output_type": "execute_result",
          "data": {
            "text/plain": [
              "torch.Size([33, 1, 1000])"
            ]
          },
          "metadata": {},
          "execution_count": 14
        }
      ],
      "source": [
        "train_tensor.shape"
      ]
    },
    {
      "cell_type": "code",
      "execution_count": 15,
      "id": "11babf76",
      "metadata": {
        "id": "11babf76"
      },
      "outputs": [],
      "source": [
        "import os\n",
        "import torch\n",
        "from torch import nn\n",
        "from torch.utils.data import DataLoader\n",
        "from torchvision import datasets, transforms"
      ]
    },
    {
      "cell_type": "code",
      "execution_count": 23,
      "id": "95072ec4",
      "metadata": {
        "id": "95072ec4"
      },
      "outputs": [],
      "source": [
        "# Create RNN Model\n",
        "class RNNModel(nn.Module):\n",
        "    def __init__(self, input_dim, hidden_dim, layer_dim, output_dim):\n",
        "        super(RNNModel, self).__init__()\n",
        "        \n",
        "        # Number of hidden dimensions\n",
        "        self.hidden_dim = hidden_dim\n",
        "        \n",
        "        # Number of hidden layers\n",
        "        self.layer_dim = layer_dim\n",
        "        \n",
        "        # RNN\n",
        "        self.rnn = nn.RNN(input_dim, hidden_dim, layer_dim, batch_first=True, nonlinearity='relu')\n",
        "        \n",
        "        # Readout layer\n",
        "        self.fc = nn.Linear(hidden_dim, output_dim)\n",
        "    \n",
        "    def forward(self, x):\n",
        "        \n",
        "        # Initialize hidden state with zeros\n",
        "        h0 = Variable(torch.zeros(self.layer_dim, x.size(0), self.hidden_dim))\n",
        "            \n",
        "        # One time step\n",
        "        out, hn = self.rnn(x, h0)\n",
        "        out = self.fc(out[:, -1, :]) \n",
        "        return out\n",
        "    \n",
        "# batch_size, epoch and iteration\n",
        "batch_size = 100\n",
        "n_iters = 10000\n",
        "num_epochs = n_iters / (len(pred_train) / batch_size)\n",
        "num_epochs = int(num_epochs)\n",
        "\n",
        "# Pytorch train and test sets\n",
        "train = train_tensor\n",
        "test = test_tensor\n",
        "\n",
        "# data loader\n",
        "train_loader = DataLoader(train, batch_size = batch_size, shuffle = False)\n",
        "test_loader = DataLoader(test, batch_size = batch_size, shuffle = False)\n",
        "    \n",
        "# Create RNN\n",
        "input_dim = 1000    # input dimension\n",
        "hidden_dim = 100  # hidden layer dimension\n",
        "layer_dim = 1     # number of hidden layers\n",
        "output_dim = 33   # output dimension\n",
        "\n",
        "model = RNNModel(input_dim, hidden_dim, layer_dim, output_dim)\n",
        "\n",
        "# Cross Entropy Loss \n",
        "error = nn.CrossEntropyLoss()\n",
        "\n",
        "# SGD Optimizer\n",
        "learning_rate = 0.05\n",
        "optimizer = torch.optim.SGD(model.parameters(), lr=learning_rate)"
      ]
    },
    {
      "cell_type": "code",
      "source": [
        "from torch.autograd import Variable"
      ],
      "metadata": {
        "id": "ULA_cyF--qrT"
      },
      "id": "ULA_cyF--qrT",
      "execution_count": 20,
      "outputs": []
    },
    {
      "cell_type": "code",
      "execution_count": 26,
      "id": "fd8a1011",
      "metadata": {
        "id": "fd8a1011",
        "outputId": "7bf0c9a0-a7ad-44e9-c614-34fe1f3175c9",
        "colab": {
          "base_uri": "https://localhost:8080/",
          "height": 389
        }
      },
      "outputs": [
        {
          "output_type": "error",
          "ename": "RuntimeError",
          "evalue": "ignored",
          "traceback": [
            "\u001b[0;31m---------------------------------------------------------------------------\u001b[0m",
            "\u001b[0;31mRuntimeError\u001b[0m                              Traceback (most recent call last)",
            "\u001b[0;32m<ipython-input-26-91866efc2edf>\u001b[0m in \u001b[0;36m<module>\u001b[0;34m\u001b[0m\n\u001b[1;32m     16\u001b[0m \u001b[0;34m\u001b[0m\u001b[0m\n\u001b[1;32m     17\u001b[0m         \u001b[0;31m# Calculate softmax and ross entropy loss\u001b[0m\u001b[0;34m\u001b[0m\u001b[0;34m\u001b[0m\u001b[0;34m\u001b[0m\u001b[0m\n\u001b[0;32m---> 18\u001b[0;31m         \u001b[0mloss\u001b[0m \u001b[0;34m=\u001b[0m \u001b[0merror\u001b[0m\u001b[0;34m(\u001b[0m\u001b[0moutputs\u001b[0m\u001b[0;34m,\u001b[0m \u001b[0mfeatures\u001b[0m\u001b[0;34m)\u001b[0m\u001b[0;34m\u001b[0m\u001b[0;34m\u001b[0m\u001b[0m\n\u001b[0m\u001b[1;32m     19\u001b[0m \u001b[0;34m\u001b[0m\u001b[0m\n\u001b[1;32m     20\u001b[0m         \u001b[0;31m# Calculating gradients\u001b[0m\u001b[0;34m\u001b[0m\u001b[0;34m\u001b[0m\u001b[0;34m\u001b[0m\u001b[0m\n",
            "\u001b[0;32m/usr/local/lib/python3.7/dist-packages/torch/nn/modules/module.py\u001b[0m in \u001b[0;36m_call_impl\u001b[0;34m(self, *input, **kwargs)\u001b[0m\n\u001b[1;32m   1128\u001b[0m         if not (self._backward_hooks or self._forward_hooks or self._forward_pre_hooks or _global_backward_hooks\n\u001b[1;32m   1129\u001b[0m                 or _global_forward_hooks or _global_forward_pre_hooks):\n\u001b[0;32m-> 1130\u001b[0;31m             \u001b[0;32mreturn\u001b[0m \u001b[0mforward_call\u001b[0m\u001b[0;34m(\u001b[0m\u001b[0;34m*\u001b[0m\u001b[0minput\u001b[0m\u001b[0;34m,\u001b[0m \u001b[0;34m**\u001b[0m\u001b[0mkwargs\u001b[0m\u001b[0;34m)\u001b[0m\u001b[0;34m\u001b[0m\u001b[0;34m\u001b[0m\u001b[0m\n\u001b[0m\u001b[1;32m   1131\u001b[0m         \u001b[0;31m# Do not call functions when jit is used\u001b[0m\u001b[0;34m\u001b[0m\u001b[0;34m\u001b[0m\u001b[0;34m\u001b[0m\u001b[0m\n\u001b[1;32m   1132\u001b[0m         \u001b[0mfull_backward_hooks\u001b[0m\u001b[0;34m,\u001b[0m \u001b[0mnon_full_backward_hooks\u001b[0m \u001b[0;34m=\u001b[0m \u001b[0;34m[\u001b[0m\u001b[0;34m]\u001b[0m\u001b[0;34m,\u001b[0m \u001b[0;34m[\u001b[0m\u001b[0;34m]\u001b[0m\u001b[0;34m\u001b[0m\u001b[0;34m\u001b[0m\u001b[0m\n",
            "\u001b[0;32m/usr/local/lib/python3.7/dist-packages/torch/nn/modules/loss.py\u001b[0m in \u001b[0;36mforward\u001b[0;34m(self, input, target)\u001b[0m\n\u001b[1;32m   1164\u001b[0m         return F.cross_entropy(input, target, weight=self.weight,\n\u001b[1;32m   1165\u001b[0m                                \u001b[0mignore_index\u001b[0m\u001b[0;34m=\u001b[0m\u001b[0mself\u001b[0m\u001b[0;34m.\u001b[0m\u001b[0mignore_index\u001b[0m\u001b[0;34m,\u001b[0m \u001b[0mreduction\u001b[0m\u001b[0;34m=\u001b[0m\u001b[0mself\u001b[0m\u001b[0;34m.\u001b[0m\u001b[0mreduction\u001b[0m\u001b[0;34m,\u001b[0m\u001b[0;34m\u001b[0m\u001b[0;34m\u001b[0m\u001b[0m\n\u001b[0;32m-> 1166\u001b[0;31m                                label_smoothing=self.label_smoothing)\n\u001b[0m\u001b[1;32m   1167\u001b[0m \u001b[0;34m\u001b[0m\u001b[0m\n\u001b[1;32m   1168\u001b[0m \u001b[0;34m\u001b[0m\u001b[0m\n",
            "\u001b[0;32m/usr/local/lib/python3.7/dist-packages/torch/nn/functional.py\u001b[0m in \u001b[0;36mcross_entropy\u001b[0;34m(input, target, weight, size_average, ignore_index, reduce, reduction, label_smoothing)\u001b[0m\n\u001b[1;32m   3012\u001b[0m     \u001b[0;32mif\u001b[0m \u001b[0msize_average\u001b[0m \u001b[0;32mis\u001b[0m \u001b[0;32mnot\u001b[0m \u001b[0;32mNone\u001b[0m \u001b[0;32mor\u001b[0m \u001b[0mreduce\u001b[0m \u001b[0;32mis\u001b[0m \u001b[0;32mnot\u001b[0m \u001b[0;32mNone\u001b[0m\u001b[0;34m:\u001b[0m\u001b[0;34m\u001b[0m\u001b[0;34m\u001b[0m\u001b[0m\n\u001b[1;32m   3013\u001b[0m         \u001b[0mreduction\u001b[0m \u001b[0;34m=\u001b[0m \u001b[0m_Reduction\u001b[0m\u001b[0;34m.\u001b[0m\u001b[0mlegacy_get_string\u001b[0m\u001b[0;34m(\u001b[0m\u001b[0msize_average\u001b[0m\u001b[0;34m,\u001b[0m \u001b[0mreduce\u001b[0m\u001b[0;34m)\u001b[0m\u001b[0;34m\u001b[0m\u001b[0;34m\u001b[0m\u001b[0m\n\u001b[0;32m-> 3014\u001b[0;31m     \u001b[0;32mreturn\u001b[0m \u001b[0mtorch\u001b[0m\u001b[0;34m.\u001b[0m\u001b[0m_C\u001b[0m\u001b[0;34m.\u001b[0m\u001b[0m_nn\u001b[0m\u001b[0;34m.\u001b[0m\u001b[0mcross_entropy_loss\u001b[0m\u001b[0;34m(\u001b[0m\u001b[0minput\u001b[0m\u001b[0;34m,\u001b[0m \u001b[0mtarget\u001b[0m\u001b[0;34m,\u001b[0m \u001b[0mweight\u001b[0m\u001b[0;34m,\u001b[0m \u001b[0m_Reduction\u001b[0m\u001b[0;34m.\u001b[0m\u001b[0mget_enum\u001b[0m\u001b[0;34m(\u001b[0m\u001b[0mreduction\u001b[0m\u001b[0;34m)\u001b[0m\u001b[0;34m,\u001b[0m \u001b[0mignore_index\u001b[0m\u001b[0;34m,\u001b[0m \u001b[0mlabel_smoothing\u001b[0m\u001b[0;34m)\u001b[0m\u001b[0;34m\u001b[0m\u001b[0;34m\u001b[0m\u001b[0m\n\u001b[0m\u001b[1;32m   3015\u001b[0m \u001b[0;34m\u001b[0m\u001b[0m\n\u001b[1;32m   3016\u001b[0m \u001b[0;34m\u001b[0m\u001b[0m\n",
            "\u001b[0;31mRuntimeError\u001b[0m: 0D or 1D target tensor expected, multi-target not supported"
          ]
        }
      ],
      "source": [
        "seq_dim = 33\n",
        "loss_list = []\n",
        "iteration_list = []\n",
        "accuracy_list = []\n",
        "count = 0\n",
        "for epoch in range(num_epochs):\n",
        "    for i, (features) in enumerate(train_loader):\n",
        "        festures = features.float()\n",
        "        train = Variable(features)\n",
        "        train = train.float()\n",
        "        # Clear gradients\n",
        "        optimizer.zero_grad()\n",
        "        \n",
        "        # Forward propagation\n",
        "        outputs = model(train)\n",
        "        \n",
        "        # Calculate softmax and ross entropy loss\n",
        "        loss = error(outputs, features)\n",
        "        \n",
        "        # Calculating gradients\n",
        "        loss.backward()\n",
        "        \n",
        "        # Update parameters\n",
        "        optimizer.step()\n",
        "        \n",
        "        count += 1\n",
        "        \n",
        "        if count % 250 == 0:\n",
        "            # Calculate Accuracy         \n",
        "            correct = 0\n",
        "            total = 0\n",
        "            # Iterate through test dataset\n",
        "            for features in test_loader:\n",
        "                \n",
        "                \n",
        "                # Forward propagation\n",
        "                outputs = model(features)\n",
        "                \n",
        "                # Get predictions from the maximum value\n",
        "                predicted = torch.max(outputs.data, 1)[1]\n",
        "                \n",
        "                # Total number of labels\n",
        "                total += features.size(0)\n",
        "                \n",
        "                correct += (predicted == features).sum()\n",
        "            \n",
        "            accuracy = 100 * correct / float(total)\n",
        "            \n",
        "            # store loss and iteration\n",
        "            loss_list.append(loss.data)\n",
        "            iteration_list.append(count)\n",
        "            accuracy_list.append(accuracy)\n",
        "            if count % 500 == 0:\n",
        "                # Print Loss\n",
        "                print('Iteration: {}  Loss: {}  Accuracy: {} %'.format(count, loss.data[0], accuracy))"
      ]
    }
  ],
  "metadata": {
    "kernelspec": {
      "display_name": "Python 3 (ipykernel)",
      "language": "python",
      "name": "python3"
    },
    "language_info": {
      "codemirror_mode": {
        "name": "ipython",
        "version": 3
      },
      "file_extension": ".py",
      "mimetype": "text/x-python",
      "name": "python",
      "nbconvert_exporter": "python",
      "pygments_lexer": "ipython3",
      "version": "3.9.12"
    },
    "colab": {
      "provenance": [],
      "collapsed_sections": [],
      "include_colab_link": true
    }
  },
  "nbformat": 4,
  "nbformat_minor": 5
}